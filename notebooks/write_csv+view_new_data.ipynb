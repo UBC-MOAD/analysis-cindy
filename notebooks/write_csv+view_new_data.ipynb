{
 "cells": [
  {
   "cell_type": "code",
   "execution_count": 1,
   "metadata": {
    "collapsed": true
   },
   "outputs": [],
   "source": [
    "import pandas as pd\n",
    "import csv\n",
    "import netCDF4 as nc\n",
    "import glob,csv\n",
    "import numpy as np\n",
    "import matplotlib.pyplot as plt\n",
    "%matplotlib inline"
   ]
  },
  {
   "cell_type": "code",
   "execution_count": 2,
   "metadata": {
    "collapsed": false
   },
   "outputs": [],
   "source": [
    "#with open('test.csv', 'wb') as fp:\n",
    "#    a = csv.writer(fp, delimiter=',')\n",
    "#    data = [['ref.', 'lat.','long.','depth','231Pa diss.','Pa_diss_err','231Pa part.','Pa_part_err','230Th diss.','Th_diss_err','230Th part.','Th_part_err','ice','name'],\n",
    "#            ['RF1', '52.7','165',  '50'   , '0.035',     '0.007'      , ],\n",
    "#    a.writerows(data)"
   ]
  },
  {
   "cell_type": "markdown",
   "metadata": {},
   "source": [
    "##explore IPY2014 data from EGeotracer website"
   ]
  },
  {
   "cell_type": "code",
   "execution_count": 4,
   "metadata": {
    "collapsed": false
   },
   "outputs": [
    {
     "name": "stdout",
     "output_type": "stream",
     "text": [
      "2\n",
      "found *.csv file: \n",
      "['/ocean/xiaoxiny/research/E-Geotracer/web/GEOTRACES_IDP2014_v2_Discrete_Sample_Data.nc', '/ocean/xiaoxiny/research/E-Geotracer/web/INOPEX_ThPa.nc']\n"
     ]
    }
   ],
   "source": [
    "nc_filename=sorted(glob.glob('/ocean/xiaoxiny/research/E-Geotracer/web/*.nc'))\n",
    "print len(nc_filename)\n",
    "print(\"found *.csv file: \\n{}\".format(nc_filename))"
   ]
  },
  {
   "cell_type": "code",
   "execution_count": 5,
   "metadata": {
    "collapsed": false
   },
   "outputs": [
    {
     "name": "stdout",
     "output_type": "stream",
     "text": [
      "OrderedDict([(u'cruise_id', <netCDF4.Variable object at 0x7fb5b4548b00>), (u'sta', <netCDF4.Variable object at 0x7fb5b4548b98>), (u'lat', <netCDF4.Variable object at 0x7fb5b4548c30>), (u'lon', <netCDF4.Variable object at 0x7fb5b4548cc8>), (u'depth', <netCDF4.Variable object at 0x7fb5b4548d60>), (u'lon_360', <netCDF4.Variable object at 0x7fb5b4548df8>), (u'press', <netCDF4.Variable object at 0x7fb5b4548e90>), (u'O2', <netCDF4.Variable object at 0x7fb5b4548f28>), (u'sal', <netCDF4.Variable object at 0x7fb5b4238050>), (u'temp', <netCDF4.Variable object at 0x7fb5b42380e8>), (u'date_collected', <netCDF4.Variable object at 0x7fb5b4238180>), (u'date_U_separation', <netCDF4.Variable object at 0x7fb5b4238218>), (u'Th232', <netCDF4.Variable object at 0x7fb5b42382b0>), (u'Th232_err', <netCDF4.Variable object at 0x7fb5b4238348>), (u'Th232_flag', <netCDF4.Variable object at 0x7fb5b42383e0>), (u'Th230', <netCDF4.Variable object at 0x7fb5b4238478>), (u'Th230_err', <netCDF4.Variable object at 0x7fb5b4238510>), (u'Th230_flag', <netCDF4.Variable object at 0x7fb5b42385a8>), (u'Pa231', <netCDF4.Variable object at 0x7fb5b4238640>), (u'Pa231_err', <netCDF4.Variable object at 0x7fb5b42386d8>), (u'Pa231_flag', <netCDF4.Variable object at 0x7fb5b4238770>)])\n"
     ]
    }
   ],
   "source": [
    "data=nc.Dataset(nc_filename[1])\n",
    "print data.variables\n",
    "\n",
    "dep = data.variables['depth'][:]\n",
    "lat = data.variables['lat'][:]\n",
    "lon = data.variables['lon'][:]\n",
    "pa_diss = data.variables['var100'][:]#uBq/kg\n",
    "pa_part = data.variables['var226'][:]#uBq/kg\n",
    "th_diss = data.variables['var111'][:]#uBq/kg\n",
    "th_part= data.variables['var229'][:]#uBq/kg\n",
    "\n",
    "#y = data['Me'];\n",
    "#print y"
   ]
  },
  {
   "cell_type": "code",
   "execution_count": 27,
   "metadata": {
    "collapsed": false
   },
   "outputs": [
    {
     "name": "stdout",
     "output_type": "stream",
     "text": [
      "11.3237\n",
      "0.21141\n"
     ]
    }
   ],
   "source": [
    "print np.max(pa_diss)\n",
    "print np.min(pa_diss)"
   ]
  },
  {
   "cell_type": "code",
   "execution_count": 45,
   "metadata": {
    "collapsed": false
   },
   "outputs": [
    {
     "name": "stdout",
     "output_type": "stream",
     "text": [
      "(796,)\n",
      "(796,)\n",
      "(796, 186)\n",
      "(796,)\n"
     ]
    }
   ],
   "source": [
    "print lon.shape\n",
    "print lat.shape\n",
    "print dep.shape\n",
    "print pa_diss.shape #N_STATIONS = 796 ;N_SAMPLES = 186 ;"
   ]
  },
  {
   "cell_type": "code",
   "execution_count": 46,
   "metadata": {
    "collapsed": false
   },
   "outputs": [
    {
     "data": {
      "text/plain": [
       "<matplotlib.collections.PathCollection at 0x7f0dab894510>"
      ]
     },
     "execution_count": 46,
     "metadata": {},
     "output_type": "execute_result"
    },
    {
     "data": {
      "image/png": "[encoded data removed]",
      "text/plain": [
       "<matplotlib.figure.Figure at 0x7f0dab91d710>"
      ]
     },
     "metadata": {},
     "output_type": "display_data"
    }
   ],
   "source": [
    "ax = plt.figure(1,figsize=(5,3))\n",
    "plt.scatter(lon,lat)"
   ]
  },
  {
   "cell_type": "code",
   "execution_count": 70,
   "metadata": {
    "collapsed": false
   },
   "outputs": [
    {
     "name": "stdout",
     "output_type": "stream",
     "text": [
      "lon:325.75,lat:64.0001,depth:2215.0\n",
      "pa_diss:2.01766\n",
      "\n",
      "lon:325.75,lat:64.0001,depth:2215.0\n",
      "pa_diss:2.07424\n",
      "\n",
      "lon:325.75,lat:64.0001,depth:2215.0\n",
      "pa_diss:2.40634\n",
      "\n",
      "lon:325.75,lat:64.0001,depth:2215.0\n",
      "pa_diss:2.45337\n",
      "\n",
      "lon:325.75,lat:64.0001,depth:2215.0\n",
      "pa_diss:2.48195\n",
      "\n",
      "lon:325.75,lat:64.0001,depth:2215.0\n",
      "pa_diss:2.44195\n",
      "\n",
      "lon:325.75,lat:64.0001,depth:2215.0\n",
      "pa_diss:2.54205\n",
      "\n",
      "lon:325.75,lat:64.0001,depth:2215.0\n",
      "pa_diss:1.84849\n",
      "\n",
      "lon:320.293,lat:58.6022,depth:3125.0\n",
      "pa_diss:1.69902\n",
      "\n",
      "lon:320.293,lat:58.6022,depth:3125.0\n",
      "pa_diss:2.11454\n",
      "\n",
      "lon:320.293,lat:58.6022,depth:3125.0\n",
      "pa_diss:2.05463\n",
      "\n",
      "lon:320.293,lat:58.6022,depth:3125.0\n",
      "pa_diss:2.22117\n",
      "\n",
      "lon:320.293,lat:58.6022,depth:3125.0\n",
      "pa_diss:2.53249\n",
      "\n",
      "lon:320.293,lat:58.6022,depth:3125.0\n",
      "pa_diss:2.51522\n",
      "\n",
      "lon:320.293,lat:58.6022,depth:3125.0\n",
      "pa_diss:2.3162\n",
      "\n",
      "lon:320.293,lat:58.6022,depth:3125.0\n",
      "pa_diss:1.74624\n",
      "\n",
      "lon:320.293,lat:58.6022,depth:3125.0\n",
      "pa_diss:1.5601\n",
      "\n"
     ]
    },
    {
     "data": {
      "image/png": "[encoded data removed]",
      "text/plain": [
       "<matplotlib.figure.Figure at 0x7f0daae28c10>"
      ]
     },
     "metadata": {},
     "output_type": "display_data"
    }
   ],
   "source": [
    "for i in range(len(lat)):\n",
    "    if lat[i]>55:\n",
    "        for j in range(len(pa_diss[i,:])):\n",
    "            if pa_diss[i,j]>0:\n",
    "                plt.scatter(lon[i],lat[i])\n",
    "                print ('lon:%s,lat:%s,depth:%s'%(lon[i],lat[i],dep[i]))\n",
    "                print ('pa_diss:%s'%pa_diss[i,j])\n",
    "                print ('')"
   ]
  },
  {
   "cell_type": "code",
   "execution_count": null,
   "metadata": {
    "collapsed": true
   },
   "outputs": [],
   "source": []
  }
 ],
 "metadata": {
  "kernelspec": {
   "display_name": "Python 2",
   "language": "python",
   "name": "python2"
  },
  "language_info": {
   "codemirror_mode": {
    "name": "ipython",
    "version": 2
   },
   "file_extension": ".py",
   "mimetype": "text/x-python",
   "name": "python",
   "nbconvert_exporter": "python",
   "pygments_lexer": "ipython2",
   "version": "2.7.9"
  }
 },
 "nbformat": 4,
 "nbformat_minor": 0
}
