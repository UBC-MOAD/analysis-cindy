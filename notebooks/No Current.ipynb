{
 "cells": [
  {
   "cell_type": "code",
   "execution_count": 7,
   "metadata": {
    "collapsed": true
   },
   "outputs": [],
   "source": [
    "import netCDF4 as nc\n",
    "import numpy as np"
   ]
  },
  {
   "cell_type": "code",
   "execution_count": 3,
   "metadata": {
    "collapsed": false
   },
   "outputs": [
    {
     "name": "stdout",
     "output_type": "stream",
     "text": [
      "<type 'netCDF4.Dataset'>\n",
      "root group (NETCDF3_CLASSIC data model, file format UNDEFINED):\n",
      "    Conventions: GDT 1.3\n",
      "    file_name: NEMONEW_5d_20920101_20921231_grid_U.nc\n",
      "    production: An IPSL model\n",
      "    TimeStamp: 2007-JUN-14 10:07:12 GMT-0200\n",
      "    associate_file: NEMONEW_5d_20920101_20921231_icemod.nc NEMONEW_5d_20920101_20921231_grid_T.nc NEMONEW_5d_20920101_20921231_grid_U.nc NEMONEW_5d_20920101_20921231_grid_V.nc NEMONEW_5d_20920101_20921231_grid_W.nc\n",
      "    dimensions(sizes): x(182), y(149), depthu(31), time_counter(73)\n",
      "    variables(dimensions): float32 \u001b[4mnav_lon\u001b[0m(y,x), float32 \u001b[4mnav_lat\u001b[0m(y,x), float32 \u001b[4mdepthu\u001b[0m(depth), float32 \u001b[4mtime_counter\u001b[0m(time_counter), float32 \u001b[4mvozocrtx\u001b[0m(time_counter,depth,y,x), float32 \u001b[4msobblcox\u001b[0m(time_counter,y,x), float32 \u001b[4mvozoeivu\u001b[0m(time_counter,depth,y,x), float32 \u001b[4msozotaux\u001b[0m(time_counter,y,x)\n",
      "    groups: \n",
      "\n"
     ]
    }
   ],
   "source": [
    "a = nc.Dataset('/ocean/xiaoxiny/research/NEMO-code/NEMOGCM/CONFIG/myORCA_offline/EXP00/orig.dyna_grid_U.nc', 'r')\n",
    "print a\n",
    "nav_lon=a.variables['nav_lon']\n",
    "nav_lat=a.variables['nav_lat']\n",
    "NEMO_dep=a.variables['depthu']\n",
    "t=a.variables['time_counter']\n",
    "\n",
    "vozocrtx=a.variables['vozocrtx']#Zonal Current\n",
    "sobblcox=a.variables['sobblcox']#Bottom Layer\"\n",
    "vozoeivu=a.variables['vozoeivu']#Zonal EIV Current\n",
    "sozotaux=a.variables['sozotaux']#Wind Stress along i-axis"
   ]
  },
  {
   "cell_type": "code",
   "execution_count": 22,
   "metadata": {
    "collapsed": false
   },
   "outputs": [
    {
     "name": "stdout",
     "output_type": "stream",
     "text": [
      "(73, 31, 149, 182)\n",
      "(73, 149, 182)\n",
      "(73, 31, 149, 182)\n",
      "(73, 149, 182)\n"
     ]
    }
   ],
   "source": [
    "vo1=np.empty(vozocrtx.shape)\n",
    "so1=np.empty(sobblcox.shape)\n",
    "vo2=np.empty(vozoeivu.shape)\n",
    "so2=np.empty(sozotaux.shape)\n",
    "print vo1.shape\n",
    "print so1.shape\n",
    "print vo2.shape\n",
    "print so2.shape"
   ]
  },
  {
   "cell_type": "code",
   "execution_count": 30,
   "metadata": {
    "collapsed": false
   },
   "outputs": [],
   "source": [
    "vo1[0:20,:,:,:]=0\n",
    "vo1[20:-1,:,:,:]=10*vozocrtx[20:-1,:,:,:]\n",
    "\n",
    "so1[0:20,:,:]=0\n",
    "so1[20:-1,:,:]=10*sobblcox[20:-1,:,:]\n",
    "\n",
    "vo2[0:20,:,:,:]=0\n",
    "vo2[20:-1,:,:,:]=10*vozoeivu[20:-1,:,:,:]\n",
    "\n",
    "so2[0:20,:,:]=0\n",
    "so2[20:-1,:,:]=10*sozotaux[20:-1,:,:]"
   ]
  },
  {
   "cell_type": "code",
   "execution_count": 32,
   "metadata": {
    "collapsed": false
   },
   "outputs": [],
   "source": [
    "lat = nav_lat\n",
    "lon = nav_lon\n",
    "#print lat.shape\n",
    "xmax = lat.shape[1]\n",
    "ymax = lat.shape[0]\n",
    "tmax=t.shape[0]\n",
    "depthtmax = NEMO_dep.shape[0]\n",
    "#print depthtmax\n",
    "nemo = nc.Dataset('dyna_grid_U.nc', 'w')\n",
    "# dimensions\n",
    "nemo.createDimension('x', xmax)\n",
    "nemo.createDimension('y', ymax)\n",
    "nemo.createDimension('deptht',depthtmax)\n",
    "nemo.createDimension('time_counter', None)\n",
    "\n",
    "# variables\n",
    "\n",
    "nav_lat = nemo.createVariable('nav_lat','float32',('y','x'),zlib=True)\n",
    "nav_lat[:,:]  = lat[:,:] \n",
    "x = nemo.createVariable('nav_lon','float32',('y','x'),zlib=True)\n",
    "x[:,:]  = lon[:,:] \n",
    "z = nemo.createVariable('depth','float32',('deptht'),zlib=True)\n",
    "z[:] = NEMO_dep[:]\n",
    "time_counter = nemo.createVariable('time_counter', 'float32', ('time_counter'),zlib=True)\n",
    "time_counter.units = 'non-dim'\n",
    "time_counter[:] = t[:]\n",
    "\n",
    "u = nemo.createVariable('vozocrtx', 'float32', ('time_counter','deptht','y','x'), zlib=True)\n",
    "u._units = 'arbitrary'\n",
    "u[:,:,:,:]=vo1[:,:,:,:]\n",
    "\n",
    "u2 = nemo.createVariable('sobblcox', 'float32', ('time_counter','y','x'), zlib=True)\n",
    "u2._units = 'arbitrary'\n",
    "u2[:,:,:]=so1[:,:,:]\n",
    "\n",
    "u3 = nemo.createVariable('vozoeivu', 'float32', ('time_counter','deptht','y','x'), zlib=True)\n",
    "u3._units = 'arbitrary'\n",
    "u3[:,:,:,:]=vo2[:,:,:,:]\n",
    "\n",
    "u3 = nemo.createVariable('sozotaux', 'float32', ('time_counter','y','x'), zlib=True)\n",
    "u3._units = 'arbitrary'\n",
    "u3[:,:,:]=so2[:,:,:]\n",
    "\n",
    "nemo.close()"
   ]
  },
  {
   "cell_type": "code",
   "execution_count": 33,
   "metadata": {
    "collapsed": false
   },
   "outputs": [
    {
     "name": "stdout",
     "output_type": "stream",
     "text": [
      "<type 'netCDF4.Dataset'>\n",
      "root group (NETCDF3_CLASSIC data model, file format UNDEFINED):\n",
      "    Conventions: GDT 1.3\n",
      "    file_name: NEMONEW_5d_20920101_20921231_grid_V.nc\n",
      "    production: An IPSL model\n",
      "    TimeStamp: 2007-JUN-14 10:07:12 GMT-0200\n",
      "    associate_file: NEMONEW_5d_20920101_20921231_icemod.nc NEMONEW_5d_20920101_20921231_grid_T.nc NEMONEW_5d_20920101_20921231_grid_U.nc NEMONEW_5d_20920101_20921231_grid_V.nc NEMONEW_5d_20920101_20921231_grid_W.nc\n",
      "    dimensions(sizes): x(182), y(149), depthv(31), time_counter(73)\n",
      "    variables(dimensions): float32 \u001b[4mnav_lon\u001b[0m(y,x), float32 \u001b[4mnav_lat\u001b[0m(y,x), float32 \u001b[4mdepthv\u001b[0m(depthv), float32 \u001b[4mtime_counter\u001b[0m(time_counter), float32 \u001b[4mvomecrty\u001b[0m(time_counter,depthv,y,x), float32 \u001b[4msobblcoy\u001b[0m(time_counter,y,x), float32 \u001b[4mvomeeivv\u001b[0m(time_counter,depthv,y,x), float32 \u001b[4msometauy\u001b[0m(time_counter,y,x)\n",
      "    groups: \n",
      "\n"
     ]
    }
   ],
   "source": [
    "a = nc.Dataset('/ocean/xiaoxiny/research/NEMO-code/NEMOGCM/CONFIG/myORCA_offline/EXP00/orig.dyna_grid_V.nc', 'r')\n",
    "print a"
   ]
  },
  {
   "cell_type": "code",
   "execution_count": 34,
   "metadata": {
    "collapsed": false
   },
   "outputs": [
    {
     "name": "stdout",
     "output_type": "stream",
     "text": [
      "(73, 31, 149, 182)\n",
      "(73, 149, 182)\n",
      "(73, 31, 149, 182)\n",
      "(73, 149, 182)\n"
     ]
    }
   ],
   "source": [
    "vomecrty=a.variables['vomecrty']#Meridional Current\n",
    "sobblcoy=a.variables['sobblcoy']#Bottom Layer\"\n",
    "vomeeivv=a.variables['vomeeivv']#Meridional  EIV Current\n",
    "sometauy=a.variables['sometauy']#Wind Stress along j-axis\n",
    "vo1=np.empty(vomecrty.shape)\n",
    "so1=np.empty(sobblcoy.shape)\n",
    "vo2=np.empty(vomeeivv.shape)\n",
    "so2=np.empty(sometauy.shape)\n",
    "print vo1.shape\n",
    "print so1.shape\n",
    "print vo2.shape\n",
    "print so2.shape"
   ]
  },
  {
   "cell_type": "code",
   "execution_count": 35,
   "metadata": {
    "collapsed": true
   },
   "outputs": [],
   "source": [
    "vo1[0:20,:,:,:]=0\n",
    "vo1[20:-1,:,:,:]=10*vomecrty[20:-1,:,:,:]\n",
    "\n",
    "so1[0:20,:,:]=0\n",
    "so1[20:-1,:,:]=10*sobblcoy[20:-1,:,:]\n",
    "\n",
    "vo2[0:20,:,:,:]=0\n",
    "vo2[20:-1,:,:,:]=10*vomeeivv[20:-1,:,:,:]\n",
    "\n",
    "so2[0:20,:,:]=0\n",
    "so2[20:-1,:,:]=10*sometauy[20:-1,:,:]"
   ]
  },
  {
   "cell_type": "code",
   "execution_count": 36,
   "metadata": {
    "collapsed": true
   },
   "outputs": [],
   "source": [
    "lat = nav_lat\n",
    "lon = nav_lon\n",
    "#print lat.shape\n",
    "xmax = lat.shape[1]\n",
    "ymax = lat.shape[0]\n",
    "tmax=t.shape[0]\n",
    "depthtmax = NEMO_dep.shape[0]\n",
    "#print depthtmax\n",
    "nemo = nc.Dataset('dyna_grid_V.nc', 'w')\n",
    "# dimensions\n",
    "nemo.createDimension('x', xmax)\n",
    "nemo.createDimension('y', ymax)\n",
    "nemo.createDimension('deptht',depthtmax)\n",
    "nemo.createDimension('time_counter', None)\n",
    "\n",
    "# variables\n",
    "\n",
    "nav_lat = nemo.createVariable('nav_lat','float32',('y','x'),zlib=True)\n",
    "nav_lat[:,:]  = lat[:,:] \n",
    "x = nemo.createVariable('nav_lon','float32',('y','x'),zlib=True)\n",
    "x[:,:]  = lon[:,:] \n",
    "z = nemo.createVariable('depth','float32',('deptht'),zlib=True)\n",
    "z[:] = NEMO_dep[:]\n",
    "time_counter = nemo.createVariable('time_counter', 'float32', ('time_counter'),zlib=True)\n",
    "time_counter.units = 'non-dim'\n",
    "time_counter[:] = t[:]\n",
    "\n",
    "u = nemo.createVariable('vomecrty', 'float32', ('time_counter','deptht','y','x'), zlib=True)\n",
    "u._units = 'arbitrary'\n",
    "u[:,:,:,:]=vo1[:,:,:,:]\n",
    "\n",
    "u2 = nemo.createVariable('sobblcoy', 'float32', ('time_counter','y','x'), zlib=True)\n",
    "u2._units = 'arbitrary'\n",
    "u2[:,:,:]=so1[:,:,:]\n",
    "\n",
    "u3 = nemo.createVariable('vomeeivv', 'float32', ('time_counter','deptht','y','x'), zlib=True)\n",
    "u3._units = 'arbitrary'\n",
    "u3[:,:,:,:]=vo2[:,:,:,:]\n",
    "\n",
    "u3 = nemo.createVariable('sometauy', 'float32', ('time_counter','y','x'), zlib=True)\n",
    "u3._units = 'arbitrary'\n",
    "u3[:,:,:]=so2[:,:,:]\n",
    "\n",
    "nemo.close()"
   ]
  },
  {
   "cell_type": "code",
   "execution_count": null,
   "metadata": {
    "collapsed": false
   },
   "outputs": [],
   "source": [
    "a = nc.Dataset('/ocean/xiaoxiny/research/NEMO-code/NEMOGCM/CONFIG/myORCA_offline/EXP00/orig.dyna_grid_W.nc', 'r')\n",
    "print a"
   ]
  },
  {
   "cell_type": "code",
   "execution_count": 45,
   "metadata": {
    "collapsed": false
   },
   "outputs": [
    {
     "name": "stdout",
     "output_type": "stream",
     "text": [
      "(73, 31, 149, 182)\n",
      "(73, 31, 149, 182)\n",
      "(73, 31, 149, 182)\n",
      "(73, 31, 149, 182)\n",
      "(73, 31, 149, 182)\n",
      "(73, 31, 149, 182)\n",
      "(73, 31, 149, 182)\n",
      "(73, 149, 182)\n",
      "(73, 149, 182)\n"
     ]
    }
   ],
   "source": [
    "vovecrtz=a.variables['vovecrtz']#Vertical Velocity\n",
    "voveeivw=a.variables['voveeivw']#Vertical EIV Velocity\n",
    "votkeavt=a.variables['votkeavt']#Vertical Eddy Diffusivity\n",
    "votkeevd=a.variables['votkeevd']#Enhanced Vertical Diffusivity\n",
    "votkeavm=a.variables['votkeavm']#Vertical Eddy Viscosity\n",
    "votkeevm=a.variables['votkeevm']#Enhanced Vertical Viscosity\"\n",
    "voddmavs=a.variables['voddmavs']#Salt Vertical Eddy Diffusivity\n",
    "\n",
    "soleahtw=a.variables['soleahtw']#lateral eddy diffusivity\n",
    "soleaeiw=a.variables['soleaeiw']#eddy induced vel. coeff. at w-point\n",
    "\n",
    "vo1=np.empty(vovecrtz.shape)\n",
    "vo2=np.empty(voveeivw.shape)\n",
    "vo3=np.empty(votkeavt.shape)\n",
    "vo4=np.empty(votkeevd.shape)\n",
    "\n",
    "vo5=np.empty(votkeavm.shape)\n",
    "vo6=np.empty(votkeevm.shape)\n",
    "vo7=np.empty(voddmavs.shape)\n",
    "\n",
    "wo1=np.empty(soleahtw.shape)\n",
    "wo2=np.empty(soleaeiw.shape)\n",
    "\n",
    "print vo1.shape\n",
    "print vo2.shape\n",
    "print vo3.shape\n",
    "print vo4.shape\n",
    "print vo5.shape\n",
    "print vo6.shape\n",
    "print vo7.shape\n",
    "\n",
    "print wo1.shape\n",
    "print wo2.shape"
   ]
  },
  {
   "cell_type": "code",
   "execution_count": 46,
   "metadata": {
    "collapsed": false
   },
   "outputs": [],
   "source": [
    "vo1[0:20,:,:,:]=0\n",
    "vo1[20:-1,:,:,:]=10*vomecrty[20:-1,:,:,:]\n",
    "\n",
    "vo2[0:20,:,:,:]=0\n",
    "vo2[20:-1,:,:,:]=10*vomeeivv[20:-1,:,:,:]"
   ]
  },
  {
   "cell_type": "code",
   "execution_count": 47,
   "metadata": {
    "collapsed": false
   },
   "outputs": [],
   "source": [
    "lat = nav_lat\n",
    "lon = nav_lon\n",
    "#print lat.shape\n",
    "xmax = lat.shape[1]\n",
    "ymax = lat.shape[0]\n",
    "tmax=t.shape[0]\n",
    "depthtmax = NEMO_dep.shape[0]\n",
    "#print depthtmax\n",
    "nemo = nc.Dataset('dyna_grid_W.nc', 'w')\n",
    "# dimensions\n",
    "nemo.createDimension('x', xmax)\n",
    "nemo.createDimension('y', ymax)\n",
    "nemo.createDimension('deptht',depthtmax)\n",
    "nemo.createDimension('time_counter', None)\n",
    "\n",
    "# variables\n",
    "nav_lat = nemo.createVariable('nav_lat','float32',('y','x'),zlib=True)\n",
    "nav_lat[:,:]  = lat[:,:] \n",
    "x = nemo.createVariable('nav_lon','float32',('y','x'),zlib=True)\n",
    "x[:,:]  = lon[:,:] \n",
    "z = nemo.createVariable('depth','float32',('deptht'),zlib=True)\n",
    "z[:] = NEMO_dep[:]\n",
    "time_counter = nemo.createVariable('time_counter', 'float32', ('time_counter'),zlib=True)\n",
    "time_counter.units = 'non-dim'\n",
    "time_counter[:] = t[:]\n",
    "\n",
    "u = nemo.createVariable('vovecrtz', 'float32', ('time_counter','deptht','y','x'), zlib=True)\n",
    "u._units = 'arbitrary'\n",
    "u[:,:,:,:]=vo1[:,:,:,:]\n",
    "\n",
    "u2 = nemo.createVariable('voveeivw', 'float32', ('time_counter','deptht','y','x'), zlib=True)\n",
    "u2._units = 'arbitrary'\n",
    "u2[:,:,:,:]=vo2[:,:,:,:]\n",
    "\n",
    "u3 = nemo.createVariable('votkeavt', 'float32', ('time_counter','deptht','y','x'), zlib=True)\n",
    "u3._units = 'arbitrary'\n",
    "u3[:,:,:,:]=votkeavt[:,:,:,:]\n",
    "\n",
    "u4 = nemo.createVariable('votkeevd', 'float32', ('time_counter','deptht','y','x'), zlib=True)\n",
    "u4._units = 'arbitrary'\n",
    "u4[:,:,:,:]=votkeevd[:,:,:,:]\n",
    "\n",
    "u5 = nemo.createVariable('votkeavm', 'float32', ('time_counter','deptht','y','x'), zlib=True)\n",
    "u5._units = 'arbitrary'\n",
    "u5[:,:,:,:]=votkeavm[:,:,:,:]\n",
    "\n",
    "u6 = nemo.createVariable('votkeevm', 'float32', ('time_counter','deptht','y','x'), zlib=True)\n",
    "u6._units = 'arbitrary'\n",
    "u6[:,:,:,:]=votkeevm[:,:,:,:]\n",
    "\n",
    "u7 = nemo.createVariable('voddmavs', 'float32', ('time_counter','deptht','y','x'), zlib=True)\n",
    "u7._units = 'arbitrary'\n",
    "u7[:,:,:,:]=voddmavs[:,:,:,:]\n",
    "\n",
    "u8 = nemo.createVariable('soleahtw', 'float32', ('time_counter','y','x'), zlib=True)\n",
    "u8._units = 'arbitrary'\n",
    "u8[:,:,:]=soleahtw[:,:,:]\n",
    "\n",
    "u9 = nemo.createVariable('soleaeiw', 'float32', ('time_counter','y','x'), zlib=True)\n",
    "u9._units = 'arbitrary'\n",
    "u9[:,:,:]=soleaeiw[:,:,:]\n"
   ]
  },
  {
   "cell_type": "code",
   "execution_count": 48,
   "metadata": {
    "collapsed": false
   },
   "outputs": [
    {
     "name": "stdout",
     "output_type": "stream",
     "text": [
      "<type 'netCDF4.Dataset'>\n",
      "root group (NETCDF4 data model, file format UNDEFINED):\n",
      "    dimensions(sizes): x(182), y(149), deptht(31), time_counter(73)\n",
      "    variables(dimensions): float32 \u001b[4mnav_lat\u001b[0m(y,x), float32 \u001b[4mnav_lon\u001b[0m(y,x), float32 \u001b[4mdepth\u001b[0m(deptht), float32 \u001b[4mtime_counter\u001b[0m(time_counter), float32 \u001b[4mvovecrtz\u001b[0m(time_counter,deptht,y,x), float32 \u001b[4mvoveeivw\u001b[0m(time_counter,deptht,y,x), float32 \u001b[4mvotkeavt\u001b[0m(time_counter,deptht,y,x), float32 \u001b[4mvotkeevd\u001b[0m(time_counter,deptht,y,x), float32 \u001b[4mvotkeavm\u001b[0m(time_counter,deptht,y,x), float32 \u001b[4mvotkeevm\u001b[0m(time_counter,deptht,y,x), float32 \u001b[4mvoddmavs\u001b[0m(time_counter,deptht,y,x), float32 \u001b[4msoleahtw\u001b[0m(time_counter,y,x), float32 \u001b[4msoleaeiw\u001b[0m(time_counter,y,x)\n",
      "    groups: \n",
      "\n"
     ]
    }
   ],
   "source": [
    "ptrc=nc.Dataset('dyna_grid_W.nc')\n",
    "print ptrc\n",
    "sozotaux=ptrc.variables['vovecrtz'][:]\n",
    "#depth=ptrc.variables['depth'][:]"
   ]
  },
  {
   "cell_type": "code",
   "execution_count": 49,
   "metadata": {
    "collapsed": false
   },
   "outputs": [
    {
     "name": "stdout",
     "output_type": "stream",
     "text": [
      "[ 0.  0.  0.  0.  0.  0.  0.  0.  0.  0.]\n",
      "(73, 31, 149, 182)\n"
     ]
    }
   ],
   "source": [
    "print sozotaux[0,0,10:20,0]\n",
    "print sozotaux.shape\n",
    "#print depth"
   ]
  },
  {
   "cell_type": "code",
   "execution_count": null,
   "metadata": {
    "collapsed": true
   },
   "outputs": [],
   "source": []
  }
 ],
 "metadata": {
  "anaconda-cloud": {},
  "kernelspec": {
   "display_name": "Python [Root]",
   "language": "python",
   "name": "Python [Root]"
  },
  "language_info": {
   "codemirror_mode": {
    "name": "ipython",
    "version": 3
   },
   "file_extension": ".py",
   "mimetype": "text/x-python",
   "name": "python",
   "nbconvert_exporter": "python",
   "pygments_lexer": "ipython3",
   "version": "3.5.2"
  }
 },
 "nbformat": 4,
 "nbformat_minor": 0
}
