{
 "cells": [
  {
   "cell_type": "code",
   "execution_count": 19,
   "metadata": {
    "collapsed": false
   },
   "outputs": [],
   "source": [
    "from statsmodels.formula.api import ols\n",
    "import numpy as np\n",
    "import pandas as pd\n",
    "from scipy.stats import f as scist"
   ]
  },
  {
   "cell_type": "code",
   "execution_count": 20,
   "metadata": {
    "collapsed": false
   },
   "outputs": [
    {
     "name": "stdout",
     "output_type": "stream",
     "text": [
      "Help on method from_formula in module statsmodels.base.model:\n",
      "\n",
      "from_formula(cls, formula, data, subset=None, *args, **kwargs) method of __builtin__.type instance\n",
      "    Create a Model from a formula and dataframe.\n",
      "    \n",
      "    Parameters\n",
      "    ----------\n",
      "    formula : str or generic Formula object\n",
      "        The formula specifying the model\n",
      "    data : array-like\n",
      "        The data for the model. See Notes.\n",
      "    subset : array-like\n",
      "        An array-like object of booleans, integers, or index values that\n",
      "        indicate the subset of df to use in the model. Assumes df is a\n",
      "        `pandas.DataFrame`\n",
      "    args : extra arguments\n",
      "        These are passed to the model\n",
      "    kwargs : extra keyword arguments\n",
      "        These are passed to the model.\n",
      "    \n",
      "    Returns\n",
      "    -------\n",
      "    model : Model instance\n",
      "    \n",
      "    Notes\n",
      "    ------\n",
      "    data must define __getitem__ with the keys in the formula terms\n",
      "    args and kwargs are passed on to the model instantiation. E.g.,\n",
      "    a numpy structured or rec array, a dictionary, or a pandas DataFrame.\n",
      "\n",
      "None\n"
     ]
    }
   ],
   "source": [
    "print help(ols)"
   ]
  },
  {
   "cell_type": "code",
   "execution_count": 21,
   "metadata": {
    "collapsed": false
   },
   "outputs": [],
   "source": [
    "x = np.linspace(-5, 5, 20)\n",
    "np.random.seed(1)\n",
    "# normal distributed noise\n",
    "y = -5 + 3*x + 4 * np.random.normal(size=x.shape)\n",
    "# Create a data frame containing all the relevant variables\n",
    "data = pd.DataFrame({'x': x, 'y': y})"
   ]
  },
  {
   "cell_type": "code",
   "execution_count": 22,
   "metadata": {
    "collapsed": false
   },
   "outputs": [
    {
     "name": "stdout",
     "output_type": "stream",
     "text": [
      "                            OLS Regression Results                            \n",
      "==============================================================================\n",
      "Dep. Variable:                      y   R-squared:                       0.804\n",
      "Model:                            OLS   Adj. R-squared:                  0.794\n",
      "Method:                 Least Squares   F-statistic:                     74.03\n",
      "Date:                Thu, 09 Jul 2015   Prob (F-statistic):           8.56e-08\n",
      "Time:                        15:20:16   Log-Likelihood:                -57.988\n",
      "No. Observations:                  20   AIC:                             120.0\n",
      "Df Residuals:                      18   BIC:                             122.0\n",
      "Df Model:                           1                                         \n",
      "==============================================================================\n",
      "                 coef    std err          t      P>|t|      [95.0% Conf. Int.]\n",
      "------------------------------------------------------------------------------\n",
      "Intercept     -5.5335      1.036     -5.342      0.000        -7.710    -3.357\n",
      "x              2.9369      0.341      8.604      0.000         2.220     3.654\n",
      "==============================================================================\n",
      "Omnibus:                        0.100   Durbin-Watson:                   2.956\n",
      "Prob(Omnibus):                  0.951   Jarque-Bera (JB):                0.322\n",
      "Skew:                          -0.058   Prob(JB):                        0.851\n",
      "Kurtosis:                       2.390   Cond. No.                         3.03\n",
      "==============================================================================\n"
     ]
    }
   ],
   "source": [
    "model2 = ols(\"y ~ x\", data).fit()\n",
    "print model2.summary()"
   ]
  },
  {
   "cell_type": "code",
   "execution_count": 23,
   "metadata": {
    "collapsed": false
   },
   "outputs": [
    {
     "name": "stdout",
     "output_type": "stream",
     "text": [
      "                            OLS Regression Results                            \n",
      "==============================================================================\n",
      "Dep. Variable:                      y   R-squared:                       0.614\n",
      "Model:                            OLS   Adj. R-squared:                  0.594\n",
      "Method:                 Least Squares   F-statistic:                     30.23\n",
      "Date:                Thu, 09 Jul 2015   Prob (F-statistic):           2.65e-05\n",
      "Time:                        15:20:16   Log-Likelihood:                -67.486\n",
      "No. Observations:                  20   AIC:                             137.0\n",
      "Df Residuals:                      19   BIC:                             138.0\n",
      "Df Model:                           1                                         \n",
      "==============================================================================\n",
      "                 coef    std err          t      P>|t|      [95.0% Conf. Int.]\n",
      "------------------------------------------------------------------------------\n",
      "x              2.9369      0.534      5.498      0.000         1.819     4.055\n",
      "==============================================================================\n",
      "Omnibus:                        0.100   Durbin-Watson:                   1.143\n",
      "Prob(Omnibus):                  0.951   Jarque-Bera (JB):                0.322\n",
      "Skew:                          -0.058   Prob(JB):                        0.851\n",
      "Kurtosis:                       2.390   Cond. No.                         1.00\n",
      "==============================================================================\n"
     ]
    }
   ],
   "source": [
    "model1 = ols(\"y ~ x - 1\", data).fit()\n",
    "print model1.summary() "
   ]
  },
  {
   "cell_type": "code",
   "execution_count": 28,
   "metadata": {
    "collapsed": false
   },
   "outputs": [
    {
     "name": "stdout",
     "output_type": "stream",
     "text": [
      "52.5638210135\n",
      "21.4627405381\n",
      "26.0833162272\n"
     ]
    }
   ],
   "source": [
    "p1 = 1\n",
    "p2 = 2\n",
    "n = 20\n",
    "F = (model1.mse_resid - model2.mse_resid)/(model2.mse_resid) *(n-p2)/(p2-p1)\n",
    "print model1.mse_resid\n",
    "print model2.mse_resid\n",
    "print F"
   ]
  },
  {
   "cell_type": "code",
   "execution_count": 29,
   "metadata": {
    "collapsed": false
   },
   "outputs": [
    {
     "name": "stdout",
     "output_type": "stream",
     "text": [
      "998.712599257\n",
      "386.329329686\n",
      "28.532389351\n"
     ]
    }
   ],
   "source": [
    "print np.sum(model1.resid**2)\n",
    "print np.sum(model2.resid**2)\n",
    "F = (np.sum(model1.resid**2) - np.sum(model2.resid**2))/np.sum(model2.resid**2) *(n-p2)/(p2-p1)\n",
    "print F"
   ]
  },
  {
   "cell_type": "code",
   "execution_count": 25,
   "metadata": {
    "collapsed": false
   },
   "outputs": [
    {
     "name": "stdout",
     "output_type": "stream",
     "text": [
      "7.36624008363e-05\n"
     ]
    }
   ],
   "source": [
    "p = 1.0 - scist.cdf(F,p2-p1,n-p2)\n",
    "print p"
   ]
  },
  {
   "cell_type": "code",
   "execution_count": 34,
   "metadata": {
    "collapsed": false
   },
   "outputs": [
    {
     "name": "stdout",
     "output_type": "stream",
     "text": [
      "(0       1.396706\n",
      "1      59.743120\n",
      "2      54.196277\n",
      "3      90.397935\n",
      "4       2.962052\n",
      "5     206.084108\n",
      "6       3.470727\n",
      "7      66.062259\n",
      "8      14.240575\n",
      "9      36.169277\n",
      "10      0.748294\n",
      "11    173.995564\n",
      "12     38.522220\n",
      "13     41.215874\n",
      "14      0.099507\n",
      "15     84.950754\n",
      "16     29.962535\n",
      "17     68.265743\n",
      "18     20.691611\n",
      "19      5.537460\n",
      "dtype: float64, 0       1.396706\n",
      "1      59.743120\n",
      "2      54.196277\n",
      "3      90.397935\n",
      "4       2.962052\n",
      "5     206.084108\n",
      "6       3.470727\n",
      "7      66.062259\n",
      "8      14.240575\n",
      "9      36.169277\n",
      "10      0.748294\n",
      "11    173.995564\n",
      "12     38.522220\n",
      "13     41.215874\n",
      "14      0.099507\n",
      "15     84.950754\n",
      "16     29.962535\n",
      "17     68.265743\n",
      "18     20.691611\n",
      "19      5.537460\n",
      "dtype: float64)\n"
     ]
    }
   ],
   "source": [
    "b=model1.resid**2\n",
    "print(a,b)"
   ]
  },
  {
   "cell_type": "code",
   "execution_count": null,
   "metadata": {
    "collapsed": true
   },
   "outputs": [],
   "source": []
  }
 ],
 "metadata": {
  "kernelspec": {
   "display_name": "Python 2",
   "language": "python",
   "name": "python2"
  },
  "language_info": {
   "codemirror_mode": {
    "name": "ipython",
    "version": 2
   },
   "file_extension": ".py",
   "mimetype": "text/x-python",
   "name": "python",
   "nbconvert_exporter": "python",
   "pygments_lexer": "ipython2",
   "version": "2.7.9"
  }
 },
 "nbformat": 4,
 "nbformat_minor": 0
}
