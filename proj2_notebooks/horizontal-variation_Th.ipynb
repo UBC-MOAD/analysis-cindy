{
 "cells": [
  {
   "cell_type": "raw",
   "metadata": {
    "collapsed": false
   },
   "source": [
    "from IPython.display import HTML\n",
    "\n",
    "HTML('''<script>\n",
    "code_show=true; \n",
    "function code_toggle() {\n",
    " if (code_show){\n",
    " $('div.input').hide();\n",
    " } else {\n",
    " $('div.input').show();\n",
    " }\n",
    " code_show = !code_show\n",
    "} \n",
    "$( document ).ready(code_toggle);\n",
    "</script>\n",
    "<form action=\"javascript:code_toggle()\"><input type=\"submit\" value=\"Click here to toggle on/off the raw code.\"></form>''')"
   ]
  },
  {
   "cell_type": "code",
   "execution_count": null,
   "metadata": {
    "collapsed": true
   },
   "outputs": [],
   "source": [
    "from mpl_toolkits.axes_grid1.inset_locator import inset_axes\n",
    "import netCDF4 as nc\n",
    "import matplotlib.pyplot as plt\n",
    "import numpy as np\n",
    "import copy\n",
    "import os\n",
    "import glob\n",
    "import pylab as pl\n",
    "import numpy as np\n",
    "import matplotlib.animation as animation\n",
    "import types\n",
    "from mpl_toolkits.basemap import cm,addcyclic,Basemap, shiftgrid\n",
    "from ArcticTools import map\n",
    "#import seaborn as sns\n",
    "\n",
    "% matplotlib inline"
   ]
  },
  {
   "cell_type": "code",
   "execution_count": null,
   "metadata": {
    "collapsed": false
   },
   "outputs": [],
   "source": [
    "nc_filename=sorted(glob.glob\\\n",
    "        ('/ocean/xiaoxiny/research/result_jasper/data_exh005_btscav_v2/EXH005-btscav_v2_19912016.nc'))#*_ptrc_T*.nc'))\n",
    "\n",
    "print(\"found *.nc file: \\n{}\".format(nc_filename))\n",
    "ptrc=nc.Dataset(nc_filename[0])\n",
    "\n",
    "lon=ptrc.variables['nav_lon'][:,:]\n",
    "lat=ptrc.variables['nav_lat'][:,:]\n",
    "dep = ptrc.variables['deptht'][:]\n",
    "\n",
    "\n",
    "tmask=nc.Dataset(\n",
    "        '/ocean/xiaoxiny/research/NEMO-code/NEMOGCM/CONFIG/myANHA/EXP00/crop.nc')\n",
    "mbathy=tmask.variables['mbathy'][0,400:,:]\n",
    "tmask=tmask.variables['tmask'][0,:,400:,:]\n",
    "\n",
    "\n",
    "bathy=nc.Dataset(\n",
    "    '/ocean/xiaoxiny/research/data/Jasper/ANHA4_bathy_etopo1_gebco1_smoothed_coast_corrected_mar10.nc')\n",
    "bathy=bathy.variables['Bathymetry'][400:,:]"
   ]
  },
  {
   "cell_type": "code",
   "execution_count": null,
   "metadata": {
    "collapsed": true
   },
   "outputs": [],
   "source": [
    "# snapshot"
   ]
  },
  {
   "cell_type": "code",
   "execution_count": null,
   "metadata": {
    "collapsed": false
   },
   "outputs": [],
   "source": [
    "# sns.set_style('whitegrid')"
   ]
  },
  {
   "cell_type": "code",
   "execution_count": null,
   "metadata": {
    "collapsed": true
   },
   "outputs": [],
   "source": [
    "from pylab import cm"
   ]
  },
  {
   "cell_type": "code",
   "execution_count": null,
   "metadata": {
    "collapsed": false
   },
   "outputs": [],
   "source": [
    "def plot(years,layer= 30,ptrc=nc.Dataset(nc_filename[0]),string='TR_8',title ='Dissolved $^{230}$Th',cont_label = 'F'):\n",
    "    fig, axes = plt.subplots(nrows=2, ncols=2,figsize=(17/1.5,15/1.5))\n",
    "    for ax,time,index,phase in zip(axes.flat,np.array(years)-1991,\n",
    "                                   ['a','b','c','d','e','f'],['I','II','III','IV','V','VI','VII']):\n",
    "        data =ptrc.variables[string][time,:,:,:]\n",
    "        data =np.ma.masked_where(tmask==0,data)\n",
    "        #data[:,:,:]=np.ma.masked\n",
    "\n",
    "        m = Basemap(width =3e6,height =2.5e6,lon_0=-140, lat_0=79,projection='stere', resolution='i', ax=ax)\n",
    "        m.drawcoastlines()\n",
    "        m.fillcontinents(color = '0.5')\n",
    "        if  index == 'a'   or index == 'c' :                                           #l,r,top,bot\n",
    "            m.drawparallels([70],labels=[1, 0, 0, 1], fontsize=13.5)\n",
    "        else:\n",
    "            m.drawparallels([70],labels=[0, 1, 0, 0], fontsize=13.5)\n",
    "        if index == 'c' or index =='d':\n",
    "            m.drawmeridians([-140],labels=[0, 1, 0, 1], fontsize=13.5)\n",
    "        else:\n",
    "            m.drawmeridians([-140],labels=[0, 0, 0, 0], fontsize=13.5)\n",
    "        x_lon,y_lat = m(lon,lat)\n",
    "        # pcolor + contour\n",
    "        if index == 'a':\n",
    "            data0_contour = data\n",
    "        levels = [0.1,0.2,0.3,0.4,0.5]\n",
    "        #CS1=m.contour(x_lon,y_lat,data0_contour[layer,:,:],levels,ls='.',colors = 'gray',linewidths=1);# cmap=cm.gray_r\n",
    "        \n",
    "        if cont_label != 'F':\n",
    "            #plt.clabel(CS1, inline=1, fmt = '%.1f', fontsize=13.5)\n",
    "            CS2=m.contour(x_lon,y_lat,data[layer,:,:],levels,cmap=cm.GnBu,linewidths=1); #colors='k'\n",
    "            plt.clabel(CS2, inline=1, fmt = '%.1f', fontsize=13.5)\n",
    "        cs=m.pcolor(x_lon,y_lat,data[layer,:,:],cmap='GnBu',vmin=0.1,vmax=0.4); #GnBu, YlGnBu RdYlBu_r\n",
    "\n",
    "        ax.text(0.01,0.95, '(%s) Year: %s'%(index, time+1991), transform=ax.transAxes, ha='left', fontsize=13.5)\n",
    "        # bathy\n",
    "        m.contour(x_lon,y_lat,bathy,[1000,2000,3000],linewidth=0.075,colors='black',alpha=0.1)\n",
    "        for aug in (['bottom','left','right','top']):\n",
    "            ax.spines[aug].set_color('k') \n",
    "        \n",
    "        for i in range (len(data_Station)):\n",
    "            data_x_lon,data_y_lat = m(data_lon,data_lat)\n",
    "            if np.int(data_Station[i][0][:4]) == time+1991: # sample year == model year\n",
    "                \n",
    "                m.scatter(data_x_lon[i],data_y_lat[i],s=data_Th[i][0]*500,\\\n",
    "                      c = data_Th[i][0],cmap=cm.GnBu,vmin=0.1,vmax=0.4,label = data_Station[i][0])\n",
    "\n",
    "        #plt.legend(loc=4,prop={'weight':'bold'},bbox_to_anchor=(0.28, 0.26),ncol=1,frameon=False)\n",
    "    \n",
    "    \n",
    "    \n",
    "\n",
    "\n",
    "    cax = fig.add_axes([0.22, -0.00, 0.6, 0.02])\n",
    "    cbar=fig.colorbar(cs,cax=cax,extend='both',orientation='horizontal')\n",
    "    cbar.ax.tick_params(labelsize=12.5) \n",
    "    cbar.set_label('%s conc. (dpm/m$^3$) at intermediate depth (500 m)'%(title),fontsize=13.5)\n",
    "    left  = 0.05  # the left side of the subplots of the figure\n",
    "    right = 0.95    # the right side of the subplots of the figure\n",
    "    bottom = 0.05   # the bottom of the subplots of the figure\n",
    "    top = 0.95      # the top of the subplots of the figure\n",
    "    wspace = 0.1/2   # the amount of width reserved for blank space between subplots\n",
    "    hspace = 0.0   # the amount of height reserved for white space between subplots\n",
    "    plt.subplots_adjust(left, bottom, right, top, wspace, hspace)\n",
    "    "
   ]
  },
  {
   "cell_type": "code",
   "execution_count": null,
   "metadata": {
    "collapsed": true
   },
   "outputs": [],
   "source": [
    "read_dictionary = np.load('Thdata.npy').item()"
   ]
  },
  {
   "cell_type": "code",
   "execution_count": null,
   "metadata": {
    "collapsed": true
   },
   "outputs": [],
   "source": [
    "data_lon = read_dictionary['x_lon']\n",
    "data_lat = read_dictionary['y_lat']\n",
    "data_Th = read_dictionary['Th']\n",
    "data_Station = read_dictionary['Station']"
   ]
  },
  {
   "cell_type": "code",
   "execution_count": null,
   "metadata": {
    "collapsed": false
   },
   "outputs": [],
   "source": [
    "plot(years = [2002,2007,2009,2015],cont_label = 'F')\n",
    "plt.savefig('/ocean/xiaoxiny/research/analysis-cindy/proj2_notebooks/Untitled Folder/fig4.pdf')"
   ]
  },
  {
   "cell_type": "code",
   "execution_count": null,
   "metadata": {
    "collapsed": false
   },
   "outputs": [],
   "source": [
    "data_Th[9][0]"
   ]
  },
  {
   "cell_type": "code",
   "execution_count": null,
   "metadata": {
    "collapsed": true
   },
   "outputs": [],
   "source": []
  }
 ],
 "metadata": {
  "anaconda-cloud": {},
  "kernelspec": {
   "display_name": "Python [Root]",
   "language": "python",
   "name": "Python [Root]"
  },
  "language_info": {
   "codemirror_mode": {
    "name": "ipython",
    "version": 3
   },
   "file_extension": ".py",
   "mimetype": "text/x-python",
   "name": "python",
   "nbconvert_exporter": "python",
   "pygments_lexer": "ipython3",
   "version": "3.5.2"
  }
 },
 "nbformat": 4,
 "nbformat_minor": 0
}
